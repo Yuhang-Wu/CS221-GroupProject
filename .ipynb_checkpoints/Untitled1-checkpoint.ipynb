{
 "cells": [
  {
   "cell_type": "code",
   "execution_count": 1,
   "metadata": {},
   "outputs": [
    {
     "name": "stdout",
     "output_type": "stream",
     "text": [
      "extracting csv data from data/sp10/\n",
      "['AAPL.csv', 'ADSK.csv', 'EBAY.csv', 'FB.csv', 'GOOGL.csv', 'INTC.csv', 'INTU.csv', 'NFLX.csv', 'ORCL.csv', 'SYMC.csv']\n"
     ]
    }
   ],
   "source": [
    "import tensorflow as tf\n",
    "import numpy as np\n",
    "import getStockData\n",
    "\n",
    "N = 5 # depend on the N previous periods\n",
    "\n",
    "dateSelected, stockPrice  = getStockData.getData()\n",
    "logreturn = getStockData.logReturn(stockPrice)\n",
    "# return for N previous periods, input, shape: [-1,K,N]\n",
    "logReturn_x = getStockData.logReturnMatrix(logreturn, N)\n",
    "# return for current period\n",
    "logReturn_x0 = logreturn[:len(logReturn_x)]"
   ]
  },
  {
   "cell_type": "code",
   "execution_count": 2,
   "metadata": {
    "collapsed": true
   },
   "outputs": [],
   "source": [
    "K = len(stockPrice[0]) # K stocks\n",
    "logReturn_x_data = tf.reshape(logReturn_x, [-1,K,N,1])"
   ]
  },
  {
   "cell_type": "code",
   "execution_count": 3,
   "metadata": {
    "collapsed": true
   },
   "outputs": [],
   "source": [
    "x = tf.placeholder(tf.float32, shape=[None, K, N])\n",
    "x_data = tf.reshape(x, [-1,K,N,1])\n",
    "y_ = tf.placeholder(tf.float32, shape=[None, K])\n",
    "\n",
    "# weight initialization\n",
    "def weight_variable(shape):\n",
    "    initial = tf.truncated_normal(shape, stddev=0.1)\n",
    "    return tf.Variable(initial)\n",
    "\n",
    "def bias_variable(shape):\n",
    "    initial = tf.constant(0.1, shape=shape)\n",
    "    return tf.Variable(initial)"
   ]
  },
  {
   "cell_type": "code",
   "execution_count": 4,
   "metadata": {
    "collapsed": true
   },
   "outputs": [],
   "source": [
    "# convolution and pooling\n",
    "def conv2d(x, W):\n",
    "    return tf.nn.conv2d(x, W, strides=[1, 1, 1, 1], padding='SAME')\n",
    "\n",
    "def avg_pool_4x1(x):\n",
    "    return tf.nn.avg_pool(x, ksize=[1, 1, 2, 1],\n",
    "                        strides=[1, 1, 2, 1], padding='SAME')\n",
    "\n"
   ]
  },
  {
   "cell_type": "code",
   "execution_count": 5,
   "metadata": {
    "collapsed": true
   },
   "outputs": [],
   "source": [
    "# first convolution layer\n",
    "W_conv1 = weight_variable([2, 2, 1, 10])\n",
    "b_conv1 = bias_variable([10])\n",
    "\n",
    "h_conv1 = tf.nn.relu(conv2d(x_data, W_conv1) + b_conv1)\n",
    "h_pool1 = avg_pool_4x1(h_conv1)"
   ]
  },
  {
   "cell_type": "code",
   "execution_count": 6,
   "metadata": {
    "collapsed": true
   },
   "outputs": [],
   "source": [
    "# second convolutional layer\n",
    "W_conv2 = weight_variable([4, 1, 10, 20])\n",
    "b_conv2 = bias_variable([20])\n",
    "\n",
    "h_conv2 = tf.nn.relu(conv2d(h_pool1, W_conv2) + b_conv2)\n",
    "h_pool2 = avg_pool_4x1(h_conv2)"
   ]
  },
  {
   "cell_type": "code",
   "execution_count": 7,
   "metadata": {},
   "outputs": [
    {
     "name": "stdout",
     "output_type": "stream",
     "text": [
      "200\n",
      "(?, 10, 2, 20)\n"
     ]
    }
   ],
   "source": [
    "print N/2/2*K*20\n",
    "print h_pool2.shape"
   ]
  },
  {
   "cell_type": "code",
   "execution_count": 8,
   "metadata": {
    "collapsed": true
   },
   "outputs": [],
   "source": [
    "# densely connected layer\n",
    "lengthW_fc1 = int(h_pool2.shape[1] * h_pool2.shape[2] * h_pool2.shape[3])\n",
    "W_fc1 = weight_variable([lengthW_fc1, 2 ** K])\n",
    "b_fc1 = bias_variable([2 ** K])\n",
    "h_pool2_flat = tf.reshape(h_pool2, [-1, lengthW_fc1])\n",
    "h_fc1 = tf.nn.relu(tf.matmul(h_pool2_flat, W_fc1) + b_fc1)"
   ]
  },
  {
   "cell_type": "code",
   "execution_count": 9,
   "metadata": {
    "collapsed": true
   },
   "outputs": [],
   "source": [
    "# readout layer\n",
    "W_fc2 = weight_variable([2 ** K, K])\n",
    "b_fc2 = bias_variable([K])\n",
    "\n",
    "y_conv = tf.matmul(h_fc1, W_fc2) + b_fc2"
   ]
  },
  {
   "cell_type": "code",
   "execution_count": 10,
   "metadata": {},
   "outputs": [
    {
     "name": "stdout",
     "output_type": "stream",
     "text": [
      "Tensor(\"add_3:0\", shape=(?, 10), dtype=float32)\n"
     ]
    }
   ],
   "source": [
    "print y_conv"
   ]
  },
  {
   "cell_type": "code",
   "execution_count": 11,
   "metadata": {},
   "outputs": [],
   "source": [
    "reward0 = np.multiply(tf.nn.softmax(logits=y_conv), y_)\n",
    "reward = tf.reduce_sum(reward0, 1)\n",
    "reward_minus = -tf.reduce_mean(reward)"
   ]
  },
  {
   "cell_type": "code",
   "execution_count": 12,
   "metadata": {
    "collapsed": true
   },
   "outputs": [],
   "source": [
    "train_step = tf.train.AdamOptimizer(1e-4).minimize(reward_minus)"
   ]
  },
  {
   "cell_type": "code",
   "execution_count": 24,
   "metadata": {},
   "outputs": [
    {
     "name": "stdout",
     "output_type": "stream",
     "text": [
      "0.0054578\n",
      "0.00187164\n",
      "0.0338111\n"
     ]
    }
   ],
   "source": [
    "with tf.Session() as sess:\n",
    "    sess.run(tf.global_variables_initializer())\n",
    "    for i in range(3):\n",
    "        historicalData = logReturn_x[i*10:(i+1)*10]\n",
    "        compareReturn = logReturn_x0[i*10:(i+1)*10]\n",
    "        print(sess.run(-reward_minus, {x: historicalData, y_: compareReturn}))\n",
    "        train_step.run(feed_dict={x: historicalData, y_: compareReturn})\n"
   ]
  },
  {
   "cell_type": "code",
   "execution_count": null,
   "metadata": {
    "collapsed": true
   },
   "outputs": [],
   "source": []
  }
 ],
 "metadata": {
  "kernelspec": {
   "display_name": "Python 2",
   "language": "python",
   "name": "python2"
  },
  "language_info": {
   "codemirror_mode": {
    "name": "ipython",
    "version": 2
   },
   "file_extension": ".py",
   "mimetype": "text/x-python",
   "name": "python",
   "nbconvert_exporter": "python",
   "pygments_lexer": "ipython2",
   "version": "2.7.13"
  }
 },
 "nbformat": 4,
 "nbformat_minor": 2
}
