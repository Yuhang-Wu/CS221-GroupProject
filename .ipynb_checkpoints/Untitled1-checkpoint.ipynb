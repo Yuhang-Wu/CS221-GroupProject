{
 "cells": [
  {
   "cell_type": "code",
   "execution_count": 19,
   "metadata": {},
   "outputs": [
    {
     "name": "stdout",
     "output_type": "stream",
     "text": [
      "extracting csv data from data/sp10/\n",
      "['AAPL.csv', 'ADSK.csv', 'EBAY.csv', 'FB.csv', 'GOOGL.csv', 'INTC.csv', 'INTU.csv', 'NFLX.csv', 'ORCL.csv', 'SYMC.csv']\n"
     ]
    }
   ],
   "source": [
    "import tensorflow as tf\n",
    "import numpy as np\n",
    "import getStockData\n",
    "\n",
    "N = 5 # depend on the N previous periods\n",
    "\n",
    "dateSelected, stockPrice  = getStockData.getData()\n",
    "logreturn = getStockData.logReturn(stockPrice)\n",
    "# return for N previous periods, input, shape: [-1,K,N]\n",
    "logReturn_x = getStockData.logReturnMatrix(logreturn, N)\n",
    "# return for current period\n",
    "logReturn_x0 = logreturn[N:]"
   ]
  },
  {
   "cell_type": "code",
   "execution_count": 20,
   "metadata": {
    "collapsed": true
   },
   "outputs": [],
   "source": [
    "K = len(stockPrice[0]) # K stocks\n",
    "logReturn_x_data = tf.reshape(logReturn_x, [-1,K,N,1])"
   ]
  },
  {
   "cell_type": "code",
   "execution_count": 21,
   "metadata": {
    "collapsed": true
   },
   "outputs": [],
   "source": [
    "x = tf.placeholder(tf.float32, shape=[None, K, N])\n",
    "x_data = tf.reshape(x, [-1,K,N,1])\n",
    "y_ = tf.placeholder(tf.float32, shape=[None, K])\n",
    "\n",
    "# weight initialization\n",
    "def weight_variable(shape):\n",
    "    initial = tf.truncated_normal(shape, stddev=0.1)\n",
    "    return tf.Variable(initial)\n",
    "\n",
    "def bias_variable(shape):\n",
    "    initial = tf.constant(0.1, shape=shape)\n",
    "    return tf.Variable(initial)"
   ]
  },
  {
   "cell_type": "code",
   "execution_count": 22,
   "metadata": {
    "collapsed": true
   },
   "outputs": [],
   "source": [
    "# convolution and pooling\n",
    "def conv2d(x, W):\n",
    "    return tf.nn.conv2d(x, W, strides=[1, 1, 1, 1], padding='SAME')\n",
    "\n",
    "def avg_pool_4x1(x):\n",
    "    return tf.nn.avg_pool(x, ksize=[1, 1, 1, 1],\n",
    "                        strides=[1, 1, 1, 1], padding='SAME')\n",
    "\n"
   ]
  },
  {
   "cell_type": "code",
   "execution_count": 23,
   "metadata": {
    "collapsed": true
   },
   "outputs": [],
   "source": [
    "# first convolution layer\n",
    "W_conv1 = weight_variable([3, 1, 1, 10])\n",
    "b_conv1 = bias_variable([10])\n",
    "\n",
    "h_conv1 = tf.nn.relu(conv2d(x_data, W_conv1) + b_conv1)\n",
    "h_pool1 = avg_pool_4x1(h_conv1)"
   ]
  },
  {
   "cell_type": "code",
   "execution_count": 24,
   "metadata": {
    "collapsed": true
   },
   "outputs": [],
   "source": [
    "# second convolutional layer\n",
    "W_conv2 = weight_variable([3, 1, 10, 20])\n",
    "b_conv2 = bias_variable([20])\n",
    "\n",
    "h_conv2 = tf.nn.relu(conv2d(h_pool1, W_conv2) + b_conv2)\n",
    "h_pool2 = avg_pool_4x1(h_conv2)"
   ]
  },
  {
   "cell_type": "code",
   "execution_count": 25,
   "metadata": {},
   "outputs": [
    {
     "name": "stdout",
     "output_type": "stream",
     "text": [
      "200\n",
      "(?, 10, 5, 20)\n"
     ]
    }
   ],
   "source": [
    "print N/2/2*K*20\n",
    "print h_pool2.shape"
   ]
  },
  {
   "cell_type": "code",
   "execution_count": 26,
   "metadata": {
    "collapsed": true
   },
   "outputs": [],
   "source": [
    "# densely connected layer\n",
    "lengthW_fc1 = int(h_pool2.shape[1] * h_pool2.shape[2] * h_pool2.shape[3])\n",
    "W_fc1 = weight_variable([lengthW_fc1, 2 ** K])\n",
    "b_fc1 = bias_variable([2 ** K])\n",
    "h_pool2_flat = tf.reshape(h_pool2, [-1, lengthW_fc1])\n",
    "h_fc1 = tf.nn.relu(tf.matmul(h_pool2_flat, W_fc1) + b_fc1)"
   ]
  },
  {
   "cell_type": "code",
   "execution_count": 27,
   "metadata": {
    "collapsed": true
   },
   "outputs": [],
   "source": [
    "# readout layer\n",
    "W_fc2 = weight_variable([2 ** K, K])\n",
    "b_fc2 = bias_variable([K])\n",
    "\n",
    "y_conv = tf.matmul(h_fc1, W_fc2) + b_fc2"
   ]
  },
  {
   "cell_type": "code",
   "execution_count": 28,
   "metadata": {},
   "outputs": [
    {
     "name": "stdout",
     "output_type": "stream",
     "text": [
      "Tensor(\"add_7:0\", shape=(?, 10), dtype=float32)\n"
     ]
    }
   ],
   "source": [
    "print y_conv"
   ]
  },
  {
   "cell_type": "code",
   "execution_count": 29,
   "metadata": {
    "collapsed": true
   },
   "outputs": [],
   "source": [
    "reward0 = np.multiply(tf.nn.softmax(logits=y_conv), y_)\n",
    "reward = tf.reduce_sum(reward0, 1)\n",
    "reward_minus = -tf.reduce_mean(reward)"
   ]
  },
  {
   "cell_type": "code",
   "execution_count": 30,
   "metadata": {
    "collapsed": true
   },
   "outputs": [],
   "source": [
    "train_step = tf.train.AdamOptimizer(1e-4).minimize(reward_minus)"
   ]
  },
  {
   "cell_type": "code",
   "execution_count": 33,
   "metadata": {},
   "outputs": [
    {
     "name": "stdout",
     "output_type": "stream",
     "text": [
      "0.0409372\n",
      "0.0345137\n",
      "-0.0064864\n",
      "0.0861441\n",
      "-0.0864942\n",
      "-0.0166782\n",
      "0.0854174\n",
      "0.0873567\n",
      "-0.0988325\n",
      "-0.1127\n",
      "0.0121574\n",
      "0.0721795\n",
      "-0.0916957\n",
      "0.0816842\n",
      "-0.0426087\n",
      "0.00785378\n",
      "0.0518572\n",
      "0.00704532\n",
      "0.131636\n",
      "-0.051776\n",
      "0.0407889\n",
      "0.102648\n",
      "0.0204474\n",
      "0.0187202\n",
      "0.0416891\n",
      "0.062984\n",
      "-0.0721744\n",
      "0.156595\n",
      "-0.0246242\n",
      "0.0317665\n"
     ]
    }
   ],
   "source": [
    "with tf.Session() as sess:\n",
    "    sess.run(tf.global_variables_initializer())\n",
    "    accumulate = 1;\n",
    "    for i in range(30):\n",
    "        historicalData = logReturn_x[i:(i+1)]\n",
    "        compareReturn = logReturn_x0[i:(i+1)]\n",
    "        print(sess.run(-reward_minus, {x: historicalData, y_: compareReturn}))\n",
    "        accumulate = accumulate * (1 + sess.run(-reward_minus, {x: historicalData, y_: compareReturn}))\n",
    "        train_step.run(feed_dict={x: historicalData, y_: compareReturn})\n"
   ]
  },
  {
   "cell_type": "code",
   "execution_count": 36,
   "metadata": {},
   "outputs": [
    {
     "name": "stdout",
     "output_type": "stream",
     "text": [
      "1.53416348403\n"
     ]
    }
   ],
   "source": [
    "print accumulate/1.04/1.03"
   ]
  },
  {
   "cell_type": "code",
   "execution_count": null,
   "metadata": {
    "collapsed": true
   },
   "outputs": [],
   "source": []
  }
 ],
 "metadata": {
  "kernelspec": {
   "display_name": "Python 2",
   "language": "python",
   "name": "python2"
  },
  "language_info": {
   "codemirror_mode": {
    "name": "ipython",
    "version": 2
   },
   "file_extension": ".py",
   "mimetype": "text/x-python",
   "name": "python",
   "nbconvert_exporter": "python",
   "pygments_lexer": "ipython2",
   "version": "2.7.13"
  }
 },
 "nbformat": 4,
 "nbformat_minor": 2
}
